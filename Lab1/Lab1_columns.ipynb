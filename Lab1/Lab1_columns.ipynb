{
 "cells": [
  {
   "cell_type": "markdown",
   "id": "90668fae-5a9d-4ae5-8edc-3a55fcc1bbbe",
   "metadata": {},
   "source": [
    "# Lab 1: Getting Started with Jupyter Notebook & Pandas\n",
    "Name: Eva Santana \n",
    "\n",
    "This notebook demonstrates how to create and manipulate a dataset using Python with the Pandas Library. \n",
    "I will generate random data with mutliple data types, explore it, and save it to a CSV file. "
   ]
  },
  {
   "cell_type": "code",
   "execution_count": 1,
   "id": "1d4c6a86-8f65-48f1-b094-ec7fee5081c2",
   "metadata": {},
   "outputs": [],
   "source": [
    "# Imported libraries \n",
    "import pandas as pd\n",
    "import numpy as np\n",
    "import random\n",
    "from datetime import datetime\n",
    "\n",
    "# Create dataset\n",
    "np.random.seed(30)\n",
    "data = {\n",
    "    'Student_ID': range(1, 51),\n",
    "    'Score': np.random.uniform(50, 100, 50),\n",
    "    'Major': np.random.choice(['Biology', 'Math', 'Computer Science', 'Art', 'History'], 50),\n",
    "    'Graduation_Year': np.random.choice([2024, 2025, 2026, 2027], 50),\n",
    "    'Pass': np.random.choice([True, False], 50)\n",
    "}\n",
    "\n",
    "# Convert to DataFrame\n",
    "df = pd.DataFrame(data)"
   ]
  },
  {
   "cell_type": "markdown",
   "id": "a258026b-4127-46d6-9087-f93b89956a0b",
   "metadata": {},
   "source": [
    "This part will show the first and last 5 rows of the dataset, columns names and data types, summary statistics, and then counts the like majors together."
   ]
  },
  {
   "cell_type": "code",
   "execution_count": 2,
   "id": "2dee79bd-aba7-46f4-9333-70fba3d4b84f",
   "metadata": {},
   "outputs": [
    {
     "name": "stdout",
     "output_type": "stream",
     "text": [
      "   Student_ID      Score             Major  Graduation_Year   Pass\n",
      "0           1  82.207177  Computer Science             2026  False\n",
      "1           2  69.037424           History             2027  False\n",
      "2           3  83.152395  Computer Science             2025  False\n",
      "3           4  58.182536               Art             2024  False\n",
      "4           5  98.130391              Math             2024   True\n",
      "    Student_ID      Score    Major  Graduation_Year   Pass\n",
      "45          46  78.654425     Math             2027  False\n",
      "46          47  95.867904     Math             2025  False\n",
      "47          48  90.948797  History             2025  False\n",
      "48          49  58.159045  Biology             2024  False\n",
      "49          50  51.207738      Art             2027   True\n",
      "<bound method DataFrame.info of     Student_ID      Score             Major  Graduation_Year   Pass\n",
      "0            1  82.207177  Computer Science             2026  False\n",
      "1            2  69.037424           History             2027  False\n",
      "2            3  83.152395  Computer Science             2025  False\n",
      "3            4  58.182536               Art             2024  False\n",
      "4            5  98.130391              Math             2024   True\n",
      "5            6  67.333092  Computer Science             2027  False\n",
      "6            7  99.587550              Math             2026  False\n",
      "7            8  61.752895           Biology             2025   True\n",
      "8            9  79.284713           History             2026  False\n",
      "9           10  70.334505           Biology             2024  False\n",
      "10          11  56.811716               Art             2025  False\n",
      "11          12  77.206814           History             2026  False\n",
      "12          13  75.908817               Art             2026   True\n",
      "13          14  88.342755           History             2027  False\n",
      "14          15  96.692507               Art             2027  False\n",
      "15          16  54.485169           History             2026   True\n",
      "16          17  59.788563               Art             2024   True\n",
      "17          18  99.709684           History             2025  False\n",
      "18          19  61.759025           History             2026  False\n",
      "19          20  61.949319               Art             2024  False\n",
      "20          21  81.454992  Computer Science             2025   True\n",
      "21          22  86.747629  Computer Science             2026   True\n",
      "22          23  84.417219           History             2027  False\n",
      "23          24  51.556537               Art             2026  False\n",
      "24          25  95.125692  Computer Science             2027   True\n",
      "25          26  64.321766  Computer Science             2025  False\n",
      "26          27  77.780628              Math             2027   True\n",
      "27          28  68.821012  Computer Science             2027  False\n",
      "28          29  51.331218               Art             2024  False\n",
      "29          30  74.707456               Art             2027  False\n",
      "30          31  91.735755           History             2026  False\n",
      "31          32  68.349367           History             2026  False\n",
      "32          33  75.769106           History             2024  False\n",
      "33          34  73.618956  Computer Science             2025   True\n",
      "34          35  69.307604  Computer Science             2024   True\n",
      "35          36  87.206850               Art             2025   True\n",
      "36          37  66.762104              Math             2027   True\n",
      "37          38  79.771914           History             2025  False\n",
      "38          39  65.806669              Math             2025   True\n",
      "39          40  67.312521               Art             2025  False\n",
      "40          41  62.241590           Biology             2026   True\n",
      "41          42  84.897508           Biology             2025   True\n",
      "42          43  60.604042              Math             2024  False\n",
      "43          44  63.364658  Computer Science             2027   True\n",
      "44          45  68.694704              Math             2025  False\n",
      "45          46  78.654425              Math             2027  False\n",
      "46          47  95.867904              Math             2025  False\n",
      "47          48  90.948797           History             2025  False\n",
      "48          49  58.159045           Biology             2024  False\n",
      "49          50  51.207738               Art             2027   True>\n",
      "       Student_ID      Score  Graduation_Year\n",
      "count    50.00000  50.000000        50.000000\n",
      "mean     25.50000  73.964049      2025.560000\n",
      "std      14.57738  13.756144         1.090965\n",
      "min       1.00000  51.207738      2024.000000\n",
      "25%      13.25000  62.522357      2025.000000\n",
      "50%      25.50000  71.976731      2025.500000\n",
      "75%      37.75000  84.101013      2026.750000\n",
      "max      50.00000  99.709684      2027.000000\n",
      "5\n"
     ]
    }
   ],
   "source": [
    "# Display first and last 5 rows\n",
    "print(df.head())\n",
    "print(df.tail())\n",
    "\n",
    "# Column names and data types\n",
    "print(df.info)\n",
    "\n",
    "# Descriptive statistics\n",
    "print(df.describe())\n",
    "\n",
    "# Unique values in 'Major'\n",
    "print(df['Major'].nunique())"
   ]
  },
  {
   "cell_type": "markdown",
   "id": "be221578-ebc8-4af6-b79e-378ec2db6298",
   "metadata": {},
   "source": [
    "This code defines a function that converts numeric scores into letter grades (A-F) based on set ranges.\n",
    "Then it applies that function to the Score column to create a new letter_grade column in the dataframe \n",
    "Then the DataFrame gets updated with that column and a CSV file is created with the DataFrame"
   ]
  },
  {
   "cell_type": "code",
   "execution_count": 3,
   "id": "248bdd20-2f5e-446a-9510-9d0e44d2eb33",
   "metadata": {},
   "outputs": [],
   "source": [
    "# Function to convert score into letter grade\n",
    "def grade(score):\n",
    "    if score >= 90:\n",
    "        return 'A'\n",
    "    elif score >= 80:\n",
    "        return 'B'\n",
    "    elif score >= 70:\n",
    "        return 'C'\n",
    "    elif score >= 60:\n",
    "        return 'D'\n",
    "    else:\n",
    "        return 'F'\n",
    "\n",
    "df['Letter_Grade'] = df['Score'].apply(grade)\n",
    "\n",
    "# Display new DataFrame\n",
    "df.head()\n",
    "\n",
    "# Save to CSV\n",
    "df.to_csv('Lab1Results.csv', index=False)"
   ]
  },
  {
   "cell_type": "code",
   "execution_count": null,
   "id": "49d17cf7-70e4-4a9d-8152-38fdba627b32",
   "metadata": {},
   "outputs": [],
   "source": []
  }
 ],
 "metadata": {
  "kernelspec": {
   "display_name": "Python 3 (ipykernel)",
   "language": "python",
   "name": "python3"
  },
  "language_info": {
   "codemirror_mode": {
    "name": "ipython",
    "version": 3
   },
   "file_extension": ".py",
   "mimetype": "text/x-python",
   "name": "python",
   "nbconvert_exporter": "python",
   "pygments_lexer": "ipython3",
   "version": "3.13.5"
  }
 },
 "nbformat": 4,
 "nbformat_minor": 5
}
