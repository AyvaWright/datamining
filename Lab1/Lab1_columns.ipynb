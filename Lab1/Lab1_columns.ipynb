{
 "cells": [
  {
   "cell_type": "markdown",
   "id": "90668fae-5a9d-4ae5-8edc-3a55fcc1bbbe",
   "metadata": {},
   "source": [
    "# Lab 1: Getting Started with Jupyter Notebook & Pandas\n",
    "Name: Eva Santana \n",
    "\n",
    "This notebook demonstrates how to create and manipulate a dataset using Python with the Pandas Library. \n",
    "I will generate random data with mutliple data types, explore it, and save it to a CSV file. "
   ]
  },
  {
   "cell_type": "code",
   "execution_count": 1,
   "id": "1d4c6a86-8f65-48f1-b094-ec7fee5081c2",
   "metadata": {},
   "outputs": [],
   "source": [
    "# Imported libraries \n",
    "import pandas as pd\n",
    "import numpy as np\n",
    "import random\n",
    "from datetime import datetime\n",
    "\n",
    "# Create dataset\n",
    "np.random.seed(30)\n",
    "data = {\n",
    "    'Student_ID': range(1, 51),\n",
    "    'Score': np.random.uniform(50, 100, 50),\n",
    "    'Major': np.random.choice(['Biology', 'Math', 'Computer Science', 'Art', 'History'], 50),\n",
    "    'Graduation_Year': np.random.choice([2024, 2025, 2026, 2027], 50),\n",
    "    'Pass': np.random.choice([True, False], 50)\n",
    "}\n",
    "\n",
    "# Convert to DataFrame\n",
    "df = pd.DataFrame(data)"
   ]
  },
  {
   "cell_type": "markdown",
   "id": "a258026b-4127-46d6-9087-f93b89956a0b",
   "metadata": {},
   "source": [
    "This part will show the first and last 5 rows of the dataset, columns names and data types, summary statistics, and then counts the like majors together."
   ]
  },
  {
   "cell_type": "code",
   "execution_count": 2,
   "id": "2dee79bd-aba7-46f4-9333-70fba3d4b84f",
   "metadata": {},
   "outputs": [
    {
     "name": "stdout",
     "output_type": "stream",
     "text": [
      "   Student_ID      Score             Major  Graduation_Year   Pass\n",
      "0           1  82.207177  Computer Science             2026  False\n",
      "1           2  69.037424           History             2027  False\n",
      "2           3  83.152395  Computer Science             2025  False\n",
      "3           4  58.182536               Art             2024  False\n",
      "4           5  98.130391              Math             2024   True\n",
      "    Student_ID      Score    Major  Graduation_Year   Pass\n",
      "45          46  78.654425     Math             2027  False\n",
      "46          47  95.867904     Math             2025  False\n",
      "47          48  90.948797  History             2025  False\n",
      "48          49  58.159045  Biology             2024  False\n",
      "49          50  51.207738      Art             2027   True\n",
      "Student_ID           int64\n",
      "Score              float64\n",
      "Major               object\n",
      "Graduation_Year      int64\n",
      "Pass                  bool\n",
      "dtype: object\n",
      "       Student_ID      Score  Graduation_Year\n",
      "count    50.00000  50.000000        50.000000\n",
      "mean     25.50000  73.964049      2025.560000\n",
      "std      14.57738  13.756144         1.090965\n",
      "min       1.00000  51.207738      2024.000000\n",
      "25%      13.25000  62.522357      2025.000000\n",
      "50%      25.50000  71.976731      2025.500000\n",
      "75%      37.75000  84.101013      2026.750000\n",
      "max      50.00000  99.709684      2027.000000\n",
      "Major\n",
      "History             13\n",
      "Art                 12\n",
      "Computer Science    11\n",
      "Math                 9\n",
      "Biology              5\n",
      "Name: count, dtype: int64\n"
     ]
    }
   ],
   "source": [
    "# Display first and last 5 rows\n",
    "print(df.head())\n",
    "print(df.tail())\n",
    "\n",
    "# Column names and data types\n",
    "print(df.dtypes)\n",
    "\n",
    "# Descriptive statistics\n",
    "print(df.describe())\n",
    "\n",
    "# Unique values in 'Major'\n",
    "print(df['Major'].value_counts())"
   ]
  },
  {
   "cell_type": "markdown",
   "id": "be221578-ebc8-4af6-b79e-378ec2db6298",
   "metadata": {},
   "source": [
    "This code defines a function that converts numeric scores into letter grades (A-F) based on set ranges.\n",
    "Then it applies that function to the Score column to create a new letter_grade column in the dataframe \n",
    "Then the DataFrame gets updated with that column and a CSV file is created with the DataFrame"
   ]
  },
  {
   "cell_type": "code",
   "execution_count": 3,
   "id": "248bdd20-2f5e-446a-9510-9d0e44d2eb33",
   "metadata": {},
   "outputs": [],
   "source": [
    "# Function to convert score into letter grade\n",
    "def grade(score):\n",
    "    if score >= 90:\n",
    "        return 'A'\n",
    "    elif score >= 80:\n",
    "        return 'B'\n",
    "    elif score >= 70:\n",
    "        return 'C'\n",
    "    elif score >= 60:\n",
    "        return 'D'\n",
    "    else:\n",
    "        return 'F'\n",
    "\n",
    "df['Letter_Grade'] = df['Score'].apply(grade)\n",
    "\n",
    "# Display new DataFrame\n",
    "df.head()\n",
    "\n",
    "# Save to CSV\n",
    "df.to_csv('Lab1Results.csv', index=False)"
   ]
  }
 ],
 "metadata": {
  "kernelspec": {
   "display_name": "Python 3 (ipykernel)",
   "language": "python",
   "name": "python3"
  },
  "language_info": {
   "codemirror_mode": {
    "name": "ipython",
    "version": 3
   },
   "file_extension": ".py",
   "mimetype": "text/x-python",
   "name": "python",
   "nbconvert_exporter": "python",
   "pygments_lexer": "ipython3",
   "version": "3.13.5"
  }
 },
 "nbformat": 4,
 "nbformat_minor": 5
}
